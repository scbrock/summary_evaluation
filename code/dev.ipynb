{
 "cells": [
  {
   "cell_type": "markdown",
   "id": "b44e205b-3996-4576-a036-3006cba41a52",
   "metadata": {},
   "source": [
    "# README\n",
    "- notebook to help with development"
   ]
  },
  {
   "cell_type": "code",
   "execution_count": 2,
   "id": "689507f2-1eaf-4b46-bd44-04fe17f09bdf",
   "metadata": {},
   "outputs": [],
   "source": [
    "import pandas as pd\n",
    "import numpy as np\n",
    "\n",
    "df = pd.read_csv('../../datasets/Newsroom/human-eval.csv')\n",
    "\n"
   ]
  },
  {
   "cell_type": "code",
   "execution_count": 29,
   "id": "87a20241-6c87-4d80-88bd-e44a18f72ef6",
   "metadata": {},
   "outputs": [],
   "source": [
    "human_id = df.index.values.tolist()\n",
    "coherence = df['CoherenceRating'].values.tolist()\n",
    "fluency = df['FluencyRating'].values.tolist()\n",
    "informativeness = df['InformativenessRating'].values.tolist()\n",
    "relevance = df['RelevanceRating'].values.tolist()\n",
    "\n",
    "# human_scores = {\n",
    "#     str(i): {'coherence': coherence[i], \n",
    "#              'fluency':fluency[i], \n",
    "#              'informativeness':informativeness[i], \n",
    "#              'relevent':relevance[i]} for i in human_id\n",
    "# }\n",
    "human_scores = {\n",
    "    str(i): [coherence[i], fluency[i], informativeness[i], relevance[i]] for i in human_id\n",
    "}\n",
    "df_mod = df[['CoherenceRating', 'FluencyRating', 'InformativenessRating', 'RelevanceRating']]"
   ]
  },
  {
   "cell_type": "code",
   "execution_count": 21,
   "id": "741f1ca0-a99e-4431-a318-f5a3235a3688",
   "metadata": {},
   "outputs": [
    {
     "data": {
      "text/plain": [
       "(1260, 9)"
      ]
     },
     "execution_count": 21,
     "metadata": {},
     "output_type": "execute_result"
    }
   ],
   "source": [
    "max(human_id)\n",
    "df.shape"
   ]
  },
  {
   "cell_type": "code",
   "execution_count": 47,
   "id": "4473c7dd-2255-4541-9bce-7f165508fe7b",
   "metadata": {},
   "outputs": [
    {
     "data": {
      "text/html": [
       "<div>\n",
       "<style scoped>\n",
       "    .dataframe tbody tr th:only-of-type {\n",
       "        vertical-align: middle;\n",
       "    }\n",
       "\n",
       "    .dataframe tbody tr th {\n",
       "        vertical-align: top;\n",
       "    }\n",
       "\n",
       "    .dataframe thead th {\n",
       "        text-align: right;\n",
       "    }\n",
       "</style>\n",
       "<table border=\"1\" class=\"dataframe\">\n",
       "  <thead>\n",
       "    <tr style=\"text-align: right;\">\n",
       "      <th></th>\n",
       "      <th>ArticleID</th>\n",
       "      <th>System</th>\n",
       "      <th>ArticleText</th>\n",
       "      <th>SystemSummary</th>\n",
       "      <th>ArticleTitle</th>\n",
       "      <th>CoherenceRating</th>\n",
       "      <th>FluencyRating</th>\n",
       "      <th>InformativenessRating</th>\n",
       "      <th>RelevanceRating</th>\n",
       "    </tr>\n",
       "  </thead>\n",
       "  <tbody>\n",
       "    <tr>\n",
       "      <th>0</th>\n",
       "      <td>2140</td>\n",
       "      <td>fragments</td>\n",
       "      <td>A worker sets up a polling station the morning...</td>\n",
       "      <td>John Avlon voter turnout in the is a sign of a...</td>\n",
       "      <td>Why has GOP turnout taken a dive?</td>\n",
       "      <td>2</td>\n",
       "      <td>2</td>\n",
       "      <td>2</td>\n",
       "      <td>2</td>\n",
       "    </tr>\n",
       "    <tr>\n",
       "      <th>1</th>\n",
       "      <td>2140</td>\n",
       "      <td>fragments</td>\n",
       "      <td>A worker sets up a polling station the morning...</td>\n",
       "      <td>John Avlon voter turnout in the is a sign of a...</td>\n",
       "      <td>Why has GOP turnout taken a dive?</td>\n",
       "      <td>4</td>\n",
       "      <td>5</td>\n",
       "      <td>4</td>\n",
       "      <td>4</td>\n",
       "    </tr>\n",
       "    <tr>\n",
       "      <th>2</th>\n",
       "      <td>2140</td>\n",
       "      <td>fragments</td>\n",
       "      <td>A worker sets up a polling station the morning...</td>\n",
       "      <td>John Avlon voter turnout in the is a sign of a...</td>\n",
       "      <td>Why has GOP turnout taken a dive?</td>\n",
       "      <td>2</td>\n",
       "      <td>3</td>\n",
       "      <td>2</td>\n",
       "      <td>3</td>\n",
       "    </tr>\n",
       "    <tr>\n",
       "      <th>3</th>\n",
       "      <td>2140</td>\n",
       "      <td>textrank</td>\n",
       "      <td>A worker sets up a polling station the morning...</td>\n",
       "      <td>In New Hampshire , the same dynamic applied --...</td>\n",
       "      <td>Why has GOP turnout taken a dive?</td>\n",
       "      <td>4</td>\n",
       "      <td>5</td>\n",
       "      <td>4</td>\n",
       "      <td>5</td>\n",
       "    </tr>\n",
       "    <tr>\n",
       "      <th>4</th>\n",
       "      <td>2140</td>\n",
       "      <td>textrank</td>\n",
       "      <td>A worker sets up a polling station the morning...</td>\n",
       "      <td>In New Hampshire , the same dynamic applied --...</td>\n",
       "      <td>Why has GOP turnout taken a dive?</td>\n",
       "      <td>3</td>\n",
       "      <td>2</td>\n",
       "      <td>3</td>\n",
       "      <td>2</td>\n",
       "    </tr>\n",
       "  </tbody>\n",
       "</table>\n",
       "</div>"
      ],
      "text/plain": [
       "   ArticleID     System                                        ArticleText  \\\n",
       "0       2140  fragments  A worker sets up a polling station the morning...   \n",
       "1       2140  fragments  A worker sets up a polling station the morning...   \n",
       "2       2140  fragments  A worker sets up a polling station the morning...   \n",
       "3       2140   textrank  A worker sets up a polling station the morning...   \n",
       "4       2140   textrank  A worker sets up a polling station the morning...   \n",
       "\n",
       "                                       SystemSummary  \\\n",
       "0  John Avlon voter turnout in the is a sign of a...   \n",
       "1  John Avlon voter turnout in the is a sign of a...   \n",
       "2  John Avlon voter turnout in the is a sign of a...   \n",
       "3  In New Hampshire , the same dynamic applied --...   \n",
       "4  In New Hampshire , the same dynamic applied --...   \n",
       "\n",
       "                        ArticleTitle  CoherenceRating  FluencyRating  \\\n",
       "0  Why has GOP turnout taken a dive?                2              2   \n",
       "1  Why has GOP turnout taken a dive?                4              5   \n",
       "2  Why has GOP turnout taken a dive?                2              3   \n",
       "3  Why has GOP turnout taken a dive?                4              5   \n",
       "4  Why has GOP turnout taken a dive?                3              2   \n",
       "\n",
       "   InformativenessRating  RelevanceRating  \n",
       "0                      2                2  \n",
       "1                      4                4  \n",
       "2                      2                3  \n",
       "3                      4                5  \n",
       "4                      3                2  "
      ]
     },
     "execution_count": 47,
     "metadata": {},
     "output_type": "execute_result"
    }
   ],
   "source": [
    "df.head()"
   ]
  },
  {
   "cell_type": "code",
   "execution_count": 49,
   "id": "85b2b40d-a50d-4129-808d-a42bd0658028",
   "metadata": {},
   "outputs": [
    {
     "data": {
      "text/plain": [
       "True"
      ]
     },
     "execution_count": 49,
     "metadata": {},
     "output_type": "execute_result"
    }
   ],
   "source": [
    "sum1 = df.iloc[0,3]\n",
    "sum2 = df.iloc[1,3]\n",
    "sum3 = df.iloc[2,3]\n",
    "\n",
    "sum3 == sum2"
   ]
  },
  {
   "cell_type": "code",
   "execution_count": null,
   "id": "8b5a8dd1-26bd-47ad-bc3e-6f36f40cafaf",
   "metadata": {},
   "outputs": [],
   "source": [
    "\"\"\"    \n",
    "def read_summaries_and_reference(self, references_file, human_score_file, human_scores):\n",
    "\n",
    "    with open(references_file, 'rb') as handle:\n",
    "        references = pickle.load(handle)\n",
    "\n",
    "    a_prompt = list(human_scores.keys())[0]\n",
    "    human_scores = human_scores[a_prompt]\n",
    "    # _, _summaries, _ = read_newsroom_human_score(human_score_file)\n",
    "    human_scores = self._read_human_score(human_score_file )\n",
    "    summaries = {}\n",
    "    for id_key in _summaries:\n",
    "        if id_key in human_scores:\n",
    "            summaries[id_key] = _summaries[id_key]\n",
    "    return summaries, references\n",
    "\"\"\""
   ]
  },
  {
   "cell_type": "code",
   "execution_count": 52,
   "id": "ec5b5b6d-8e40-41bd-8e6c-93aed30fb2f6",
   "metadata": {},
   "outputs": [],
   "source": [
    "\n",
    "\n",
    "human_scores_2 = {}\n",
    "\n",
    "def read_newsroom_human_score(human_score_file):\n",
    "    \n",
    "    \n",
    "    \n",
    "    df = pd.read_csv(human_score_file)\n",
    "    \n",
    "    article_ids = df['ArticleID'].unique()\n",
    "    \n",
    "    human_scores_2 = {}\n",
    "    summaries = {}\n",
    "\n",
    "    for aid in article_ids:\n",
    "        sub = df[df['ArticleID'] == aid]\n",
    "        values = sub[['CoherenceRating', 'FluencyRating', 'InformativenessRating', 'RelevanceRating']].values\n",
    "\n",
    "        human_scores_2[aid] = values\n",
    "        summaries[aid] = sub['SystemSummary'].values[0]\n",
    "        \n",
    "    # summaries = None\n",
    "    \n",
    "    return human_scores_2, summaries, None\n",
    "    \n",
    "\n",
    "    \n"
   ]
  },
  {
   "cell_type": "code",
   "execution_count": 53,
   "id": "9ba15a4f-4ff7-42c7-8b6f-c5f937a523aa",
   "metadata": {},
   "outputs": [],
   "source": [
    "a, b, c = read_newsroom_human_scores(human_score_file='../../datasets/Newsroom/human-eval.csv')"
   ]
  },
  {
   "cell_type": "code",
   "execution_count": 58,
   "id": "4ff19074-3841-4e9e-9a35-3a40dd3dc39b",
   "metadata": {},
   "outputs": [],
   "source": [
    "import pickle\n",
    "\n",
    "cached_file = '/Users/stephenbrock/Documents/Vanguard/LS-Score/code/cache/CNNDM/cached_ranking_loss_negative_sampling'\n",
    "\n",
    "with open(cached_file, 'rb') as handle:\n",
    "    cf_data = pickle.load(handle)\n",
    "    # pickle.dump(art_sum_pairs_list, handle,\n",
    "    #             protocol=pickle.HIGHEST_PROTOCOL)"
   ]
  },
  {
   "cell_type": "code",
   "execution_count": 88,
   "id": "915b133a-38b1-4741-92df-cb47c96e187f",
   "metadata": {},
   "outputs": [],
   "source": [
    "import pickle\n",
    "import os\n",
    "\n",
    "def read_articles(articles_file, human_scores):\n",
    "    if os.path.exists(articles_file):\n",
    "        with open(articles_file, 'rb') as handle:\n",
    "            _articles = pickle.load(handle)\n",
    "\n",
    "    a_prompt = list(human_scores.keys())[0]\n",
    "    human_scores = human_scores[a_prompt]\n",
    "    articles = {key: art for key, art in _articles.items()\n",
    "                if int(key) in human_scores.keys()}\n",
    "    return articles"
   ]
  },
  {
   "cell_type": "code",
   "execution_count": 89,
   "id": "9c59693a-7ce9-49de-a675-43a7942e6d8e",
   "metadata": {},
   "outputs": [
    {
     "ename": "AttributeError",
     "evalue": "'numpy.ndarray' object has no attribute 'keys'",
     "output_type": "error",
     "traceback": [
      "\u001b[0;31m---------------------------------------------------------------------------\u001b[0m",
      "\u001b[0;31mAttributeError\u001b[0m                            Traceback (most recent call last)",
      "\u001b[0;32m/var/folders/jn/c9n7g6sj3cjb07fqqn7p9fk40000gn/T/ipykernel_12611/3489938703.py\u001b[0m in \u001b[0;36m<module>\u001b[0;34m\u001b[0m\n\u001b[1;32m      7\u001b[0m \u001b[0;31m# article_ids_set = set([int(e) for e in list(_articles.keys())])\u001b[0m\u001b[0;34m\u001b[0m\u001b[0;34m\u001b[0m\u001b[0;34m\u001b[0m\u001b[0m\n\u001b[1;32m      8\u001b[0m \u001b[0;31m# human_scores_ids = set(list(a.keys()))\u001b[0m\u001b[0;34m\u001b[0m\u001b[0;34m\u001b[0m\u001b[0;34m\u001b[0m\u001b[0m\n\u001b[0;32m----> 9\u001b[0;31m \u001b[0marts\u001b[0m \u001b[0;34m=\u001b[0m \u001b[0mread_articles\u001b[0m\u001b[0;34m(\u001b[0m\u001b[0marticles_file\u001b[0m\u001b[0;34m,\u001b[0m \u001b[0mhuman_scores\u001b[0m\u001b[0;34m=\u001b[0m\u001b[0ma\u001b[0m\u001b[0;34m)\u001b[0m\u001b[0;34m\u001b[0m\u001b[0;34m\u001b[0m\u001b[0m\n\u001b[0m",
      "\u001b[0;32m/var/folders/jn/c9n7g6sj3cjb07fqqn7p9fk40000gn/T/ipykernel_12611/3232682119.py\u001b[0m in \u001b[0;36mread_articles\u001b[0;34m(articles_file, human_scores)\u001b[0m\n\u001b[1;32m      9\u001b[0m     \u001b[0ma_prompt\u001b[0m \u001b[0;34m=\u001b[0m \u001b[0mlist\u001b[0m\u001b[0;34m(\u001b[0m\u001b[0mhuman_scores\u001b[0m\u001b[0;34m.\u001b[0m\u001b[0mkeys\u001b[0m\u001b[0;34m(\u001b[0m\u001b[0;34m)\u001b[0m\u001b[0;34m)\u001b[0m\u001b[0;34m[\u001b[0m\u001b[0;36m0\u001b[0m\u001b[0;34m]\u001b[0m\u001b[0;34m\u001b[0m\u001b[0;34m\u001b[0m\u001b[0m\n\u001b[1;32m     10\u001b[0m     \u001b[0mhuman_scores\u001b[0m \u001b[0;34m=\u001b[0m \u001b[0mhuman_scores\u001b[0m\u001b[0;34m[\u001b[0m\u001b[0ma_prompt\u001b[0m\u001b[0;34m]\u001b[0m\u001b[0;34m\u001b[0m\u001b[0;34m\u001b[0m\u001b[0m\n\u001b[0;32m---> 11\u001b[0;31m     articles = {key: art for key, art in _articles.items()\n\u001b[0m\u001b[1;32m     12\u001b[0m                 if int(key) in human_scores.keys()}\n\u001b[1;32m     13\u001b[0m     \u001b[0;32mreturn\u001b[0m \u001b[0marticles\u001b[0m\u001b[0;34m\u001b[0m\u001b[0;34m\u001b[0m\u001b[0m\n",
      "\u001b[0;32m/var/folders/jn/c9n7g6sj3cjb07fqqn7p9fk40000gn/T/ipykernel_12611/3232682119.py\u001b[0m in \u001b[0;36m<dictcomp>\u001b[0;34m(.0)\u001b[0m\n\u001b[1;32m     10\u001b[0m     \u001b[0mhuman_scores\u001b[0m \u001b[0;34m=\u001b[0m \u001b[0mhuman_scores\u001b[0m\u001b[0;34m[\u001b[0m\u001b[0ma_prompt\u001b[0m\u001b[0;34m]\u001b[0m\u001b[0;34m\u001b[0m\u001b[0;34m\u001b[0m\u001b[0m\n\u001b[1;32m     11\u001b[0m     articles = {key: art for key, art in _articles.items()\n\u001b[0;32m---> 12\u001b[0;31m                 if int(key) in human_scores.keys()}\n\u001b[0m\u001b[1;32m     13\u001b[0m     \u001b[0;32mreturn\u001b[0m \u001b[0marticles\u001b[0m\u001b[0;34m\u001b[0m\u001b[0;34m\u001b[0m\u001b[0m\n",
      "\u001b[0;31mAttributeError\u001b[0m: 'numpy.ndarray' object has no attribute 'keys'"
     ]
    }
   ],
   "source": [
    "articles_file = '/Users/stephenbrock/Documents/Vanguard/datasets/Newsroom/articles_with_id'\n",
    "\n",
    "# if os.path.exists(articles_file):\n",
    "#     with open(articles_file, 'rb') as handle:\n",
    "#         _articles = pickle.load(handle)\n",
    "\n",
    "# article_ids_set = set([int(e) for e in list(_articles.keys())])\n",
    "# human_scores_ids = set(list(a.keys()))\n",
    "arts = read_articles(articles_file, human_scores=a)"
   ]
  },
  {
   "cell_type": "code",
   "execution_count": null,
   "id": "7367e25c-e1de-4303-947b-e823b737d83d",
   "metadata": {},
   "outputs": [],
   "source": [
    "len(arts)"
   ]
  },
  {
   "cell_type": "code",
   "execution_count": 86,
   "id": "bea03189-6aa1-4935-8d6b-aef9e3a6b42a",
   "metadata": {
    "tags": []
   },
   "outputs": [
    {
     "data": {
      "text/plain": [
       "60"
      ]
     },
     "execution_count": 86,
     "metadata": {},
     "output_type": "execute_result"
    }
   ],
   "source": [
    "len(article_ids_set.intersection(human_scores_ids))"
   ]
  },
  {
   "cell_type": "code",
   "execution_count": 87,
   "id": "735ed996-d890-4f93-a1a6-047daf27dec3",
   "metadata": {},
   "outputs": [
    {
     "data": {
      "text/plain": [
       "60"
      ]
     },
     "execution_count": 87,
     "metadata": {},
     "output_type": "execute_result"
    }
   ],
   "source": [
    "len(human_scores_ids)"
   ]
  },
  {
   "cell_type": "code",
   "execution_count": 78,
   "id": "bc285d23-d6fb-4127-bb05-298e7312d5ab",
   "metadata": {},
   "outputs": [
    {
     "data": {
      "text/plain": [
       "'99999'"
      ]
     },
     "execution_count": 78,
     "metadata": {},
     "output_type": "execute_result"
    }
   ],
   "source": [
    "max(article_ids_set)"
   ]
  },
  {
   "cell_type": "code",
   "execution_count": 41,
   "id": "55839651-3e77-42cc-87c8-2dd0258234ab",
   "metadata": {
    "collapsed": true,
    "jupyter": {
     "outputs_hidden": true
    },
    "tags": []
   },
   "outputs": [
    {
     "data": {
      "text/plain": [
       "[(2140, 21),\n",
       " (7569, 21),\n",
       " (30385, 21),\n",
       " (2591, 21),\n",
       " (1943, 21),\n",
       " (8167, 21),\n",
       " (10113, 21),\n",
       " (7651, 21),\n",
       " (2350, 21),\n",
       " (31823, 21),\n",
       " (9821, 21),\n",
       " (30429, 21),\n",
       " (7208, 21),\n",
       " (10376, 21),\n",
       " (7666, 21),\n",
       " (9823, 21),\n",
       " (30821, 21),\n",
       " (9092, 21),\n",
       " (10506, 21),\n",
       " (32563, 21),\n",
       " (6476, 21),\n",
       " (6130, 21),\n",
       " (8727, 21),\n",
       " (10580, 21),\n",
       " (34005, 21),\n",
       " (8801, 21),\n",
       " (5678, 21),\n",
       " (5626, 21),\n",
       " (10488, 21),\n",
       " (144, 21),\n",
       " (31425, 21),\n",
       " (9912, 21),\n",
       " (10623, 21),\n",
       " (30117, 21),\n",
       " (31059, 21),\n",
       " (6578, 21),\n",
       " (31788, 21),\n",
       " (10062, 21),\n",
       " (8607, 21),\n",
       " (1807, 21),\n",
       " (32146, 21),\n",
       " (3829, 21),\n",
       " (32202, 21),\n",
       " (6726, 21),\n",
       " (9642, 21),\n",
       " (4003, 21),\n",
       " (5926, 21),\n",
       " (6638, 21),\n",
       " (32716, 21),\n",
       " (32670, 21),\n",
       " (350, 21),\n",
       " (8212, 21),\n",
       " (6906, 21),\n",
       " (33233, 21),\n",
       " (6314, 21),\n",
       " (9950, 21),\n",
       " (34184, 21),\n",
       " (171, 21),\n",
       " (7118, 21),\n",
       " (1295, 21)]"
      ]
     },
     "execution_count": 41,
     "metadata": {},
     "output_type": "execute_result"
    }
   ],
   "source": [
    "# human_scores: id_key -> human scores for the id -> row of scores -> single score\n",
    "\n",
    "from collections import Counter\n",
    "\n",
    "sorted(list(Counter(df['ArticleID'].values.tolist()).items()), key=lambda t: -t[1])"
   ]
  },
  {
   "cell_type": "code",
   "execution_count": 25,
   "id": "41a4ea8d-45e8-4e3c-af8d-001239c3afc8",
   "metadata": {},
   "outputs": [],
   "source": [
    "def _get_human_scores_prompt(human_scores, prompt='coherence'):\n",
    "    prompt_list = ['coherence', 'fluency', 'informativeness', 'relevent']\n",
    "    prompt_index = prompt_list.index(prompt)\n",
    "    human_scores_prompt = {}\n",
    "    for id_key in human_scores:\n",
    "        temp = [scores_for_one_summary[prompt_index]\n",
    "                for scores_for_one_summary in human_scores[id_key]]\n",
    "        human_scores_prompt[id_key] = temp\n",
    "        \n",
    "    return human_scores_prompt"
   ]
  },
  {
   "cell_type": "code",
   "execution_count": 45,
   "id": "d54ef15c-8451-42c7-97c4-2788291d9c17",
   "metadata": {},
   "outputs": [
    {
     "data": {
      "text/plain": [
       "{2140: [2, 4, 2, 4, 3, 5, 1, 4, 4, 3, 3, 4, 4, 2, 3, 2, 3, 5, 5, 3, 4],\n",
       " 7569: [4, 4, 5, 3, 2, 4, 3, 3, 4, 4, 3, 4, 1, 4, 3, 5, 2, 5, 5, 3, 4],\n",
       " 30385: [4, 5, 4, 1, 5, 3, 4, 4, 4, 4, 5, 3, 3, 2, 5, 3, 4, 3, 5, 5, 5],\n",
       " 2591: [3, 4, 3, 2, 3, 3, 2, 1, 3, 3, 3, 5, 1, 1, 3, 5, 4, 3, 2, 1, 2],\n",
       " 1943: [4, 5, 3, 1, 1, 2, 3, 3, 5, 4, 1, 1, 3, 3, 4, 3, 3, 4, 5, 3, 3],\n",
       " 8167: [4, 3, 5, 4, 2, 1, 5, 3, 3, 1, 4, 1, 4, 2, 1, 5, 4, 4, 1, 4, 3],\n",
       " 10113: [4, 2, 5, 3, 4, 5, 4, 2, 5, 4, 2, 1, 4, 4, 3, 5, 3, 3, 3, 5, 2],\n",
       " 7651: [3, 4, 4, 1, 3, 2, 2, 3, 4, 1, 1, 4, 4, 4, 1, 3, 3, 3, 4, 3, 3],\n",
       " 2350: [3, 4, 4, 5, 4, 4, 3, 3, 3, 3, 4, 1, 4, 4, 1, 3, 3, 4, 3, 3, 5],\n",
       " 31823: [4, 2, 1, 1, 5, 1, 4, 5, 4, 5, 1, 1, 5, 1, 4, 3, 4, 5, 2, 5, 5],\n",
       " 9821: [4, 5, 4, 3, 1, 1, 5, 4, 5, 2, 3, 4, 1, 4, 4, 2, 4, 3, 1, 4, 3],\n",
       " 30429: [4, 4, 5, 2, 3, 1, 3, 5, 3, 1, 2, 2, 2, 3, 3, 3, 5, 4, 4, 5, 2],\n",
       " 7208: [4, 5, 3, 5, 3, 1, 4, 3, 3, 1, 3, 3, 3, 4, 3, 2, 3, 3, 3, 5, 2],\n",
       " 10376: [5, 4, 5, 3, 1, 4, 4, 3, 4, 4, 1, 1, 4, 4, 1, 4, 3, 3, 3, 4, 3],\n",
       " 7666: [4, 5, 4, 3, 4, 4, 4, 4, 5, 4, 5, 1, 4, 4, 4, 4, 4, 4, 2, 4, 4],\n",
       " 9823: [4, 4, 4, 4, 2, 2, 4, 3, 4, 1, 4, 1, 4, 5, 4, 3, 2, 4, 3, 5, 4],\n",
       " 30821: [5, 5, 5, 4, 4, 5, 4, 5, 5, 1, 3, 4, 4, 4, 1, 5, 3, 4, 4, 5, 5],\n",
       " 9092: [5, 1, 2, 4, 5, 4, 2, 4, 3, 1, 4, 2, 4, 2, 3, 4, 1, 4, 5, 2, 1],\n",
       " 10506: [4, 4, 4, 1, 1, 4, 3, 4, 4, 4, 1, 2, 3, 3, 4, 4, 3, 4, 2, 5, 5],\n",
       " 32563: [4, 5, 4, 3, 2, 4, 4, 2, 4, 2, 1, 4, 5, 3, 1, 3, 3, 4, 3, 4, 5],\n",
       " 6476: [5, 4, 5, 1, 4, 1, 4, 5, 4, 1, 4, 1, 4, 3, 3, 3, 3, 4, 4, 4, 5],\n",
       " 6130: [5, 4, 5, 3, 2, 4, 4, 4, 5, 1, 5, 1, 3, 4, 3, 3, 4, 4, 4, 4, 3],\n",
       " 8727: [5, 4, 2, 5, 3, 3, 4, 3, 4, 4, 4, 5, 4, 4, 5, 4, 2, 2, 4, 5, 4],\n",
       " 10580: [4, 5, 5, 3, 3, 4, 4, 4, 4, 5, 3, 1, 3, 5, 1, 3, 4, 2, 3, 4, 4],\n",
       " 34005: [5, 4, 5, 1, 4, 1, 5, 4, 5, 2, 5, 1, 4, 2, 4, 2, 3, 4, 4, 1, 5],\n",
       " 8801: [4, 4, 4, 5, 5, 4, 5, 3, 4, 1, 1, 3, 3, 3, 4, 3, 4, 3, 3, 3, 5],\n",
       " 5678: [2, 4, 3, 2, 4, 2, 4, 4, 4, 3, 3, 4, 2, 1, 5, 4, 3, 3, 1, 3, 5],\n",
       " 5626: [4, 3, 5, 5, 5, 4, 3, 5, 4, 4, 3, 1, 1, 2, 2, 2, 2, 3, 4, 3, 3],\n",
       " 10488: [3, 4, 5, 2, 3, 3, 4, 5, 3, 2, 3, 3, 3, 4, 2, 3, 3, 2, 1, 2, 5],\n",
       " 144: [4, 5, 4, 3, 5, 4, 4, 5, 4, 4, 4, 3, 3, 2, 3, 3, 4, 4, 4, 4, 4],\n",
       " 31425: [4, 3, 5, 2, 3, 4, 4, 3, 3, 4, 1, 2, 3, 4, 4, 4, 1, 4, 3, 4, 4],\n",
       " 9912: [2, 3, 5, 2, 4, 3, 4, 2, 3, 2, 3, 4, 1, 4, 5, 5, 4, 2, 3, 5, 4],\n",
       " 10623: [4, 3, 4, 4, 5, 5, 4, 5, 3, 3, 1, 1, 4, 2, 3, 2, 4, 4, 4, 1, 4],\n",
       " 30117: [4, 5, 4, 5, 4, 5, 5, 2, 3, 1, 1, 2, 4, 5, 4, 1, 3, 5, 4, 3, 4],\n",
       " 31059: [5, 4, 3, 5, 4, 4, 5, 2, 5, 2, 4, 1, 4, 1, 1, 2, 4, 4, 5, 4, 1],\n",
       " 6578: [4, 4, 5, 3, 5, 4, 5, 4, 4, 1, 3, 5, 5, 4, 1, 4, 3, 4, 3, 3, 3],\n",
       " 31788: [4, 5, 5, 4, 2, 2, 5, 3, 2, 4, 5, 1, 4, 4, 4, 4, 5, 4, 4, 5, 4],\n",
       " 10062: [4, 3, 5, 1, 4, 4, 4, 4, 4, 4, 1, 3, 5, 3, 4, 3, 4, 5, 3, 2, 4],\n",
       " 8607: [5, 5, 5, 5, 2, 4, 4, 4, 5, 3, 1, 1, 4, 3, 5, 3, 3, 4, 3, 5, 4],\n",
       " 1807: [4, 4, 3, 3, 3, 3, 4, 5, 4, 2, 1, 2, 3, 4, 4, 3, 3, 4, 3, 3, 4],\n",
       " 32146: [5, 3, 4, 3, 2, 3, 4, 1, 5, 1, 4, 2, 4, 4, 4, 2, 2, 5, 1, 4, 3],\n",
       " 3829: [4, 4, 4, 4, 5, 4, 3, 5, 3, 3, 1, 5, 5, 4, 4, 4, 3, 2, 3, 5, 3],\n",
       " 32202: [4, 5, 2, 4, 5, 3, 5, 3, 5, 1, 3, 1, 2, 3, 4, 4, 3, 1, 4, 4, 3],\n",
       " 6726: [5, 5, 4, 3, 4, 3, 4, 3, 5, 4, 1, 1, 2, 3, 5, 4, 2, 4, 4, 4, 5],\n",
       " 9642: [5, 3, 5, 1, 4, 1, 5, 3, 3, 4, 3, 2, 3, 5, 4, 2, 2, 5, 4, 4, 3],\n",
       " 4003: [5, 5, 4, 1, 3, 3, 4, 3, 4, 1, 1, 3, 5, 3, 4, 4, 3, 3, 4, 3, 4],\n",
       " 5926: [4, 3, 4, 4, 2, 1, 4, 4, 4, 1, 3, 4, 2, 3, 4, 1, 1, 5, 1, 3, 4],\n",
       " 6638: [5, 5, 4, 2, 4, 4, 3, 3, 5, 5, 4, 2, 2, 2, 5, 3, 5, 3, 4, 2, 5],\n",
       " 32716: [4, 5, 5, 2, 4, 2, 5, 4, 4, 3, 1, 1, 3, 2, 5, 4, 4, 5, 5, 3, 4],\n",
       " 32670: [4, 4, 4, 2, 4, 1, 5, 5, 4, 2, 4, 2, 3, 4, 4, 4, 2, 5, 4, 1, 5],\n",
       " 350: [5, 3, 4, 5, 2, 2, 4, 5, 3, 3, 3, 1, 4, 2, 3, 5, 4, 3, 3, 5, 4],\n",
       " 8212: [5, 4, 3, 2, 3, 5, 5, 5, 4, 3, 5, 1, 2, 4, 3, 4, 2, 1, 4, 4, 5],\n",
       " 6906: [4, 4, 2, 4, 3, 1, 3, 4, 2, 1, 3, 4, 2, 3, 3, 4, 3, 4, 4, 1, 3],\n",
       " 33233: [4, 5, 4, 1, 5, 4, 4, 4, 2, 1, 4, 1, 3, 3, 5, 5, 3, 3, 2, 3, 4],\n",
       " 6314: [4, 2, 5, 4, 1, 1, 3, 3, 5, 1, 2, 3, 4, 3, 2, 4, 3, 4, 4, 4, 3],\n",
       " 9950: [5, 4, 5, 4, 4, 4, 5, 3, 4, 1, 5, 3, 4, 4, 3, 3, 2, 5, 4, 3, 5],\n",
       " 34184: [5, 3, 5, 2, 4, 3, 3, 4, 4, 1, 5, 2, 5, 4, 1, 5, 3, 5, 4, 5, 4],\n",
       " 171: [2, 2, 5, 4, 1, 4, 5, 4, 4, 5, 1, 1, 5, 4, 3, 5, 2, 5, 3, 2, 5],\n",
       " 7118: [5, 5, 5, 1, 2, 5, 4, 2, 5, 1, 5, 1, 2, 5, 2, 4, 3, 4, 4, 4, 4],\n",
       " 1295: [4, 3, 5, 4, 2, 1, 3, 5, 3, 2, 1, 4, 4, 2, 3, 5, 3, 4, 4, 4, 1]}"
      ]
     },
     "execution_count": 45,
     "metadata": {},
     "output_type": "execute_result"
    }
   ],
   "source": [
    "_get_human_scores_prompt(human_scores_2, prompt='coherence')"
   ]
  },
  {
   "cell_type": "code",
   "execution_count": 28,
   "id": "50e2c08f-3a87-4b82-8233-7debed2b020c",
   "metadata": {},
   "outputs": [
    {
     "name": "stdout",
     "output_type": "stream",
     "text": [
      "ArticleID\n",
      "System\n",
      "ArticleText\n",
      "SystemSummary\n",
      "ArticleTitle\n",
      "CoherenceRating\n",
      "FluencyRating\n",
      "InformativenessRating\n",
      "RelevanceRating\n"
     ]
    }
   ],
   "source": [
    "for a in df:\n",
    "    print(a)"
   ]
  },
  {
   "cell_type": "code",
   "execution_count": null,
   "id": "b27fda7a-d654-4f50-b14a-5289d0b59693",
   "metadata": {},
   "outputs": [],
   "source": []
  },
  {
   "cell_type": "code",
   "execution_count": null,
   "id": "91e033ff-4648-47a5-9e7b-2d2897870409",
   "metadata": {},
   "outputs": [],
   "source": []
  },
  {
   "cell_type": "code",
   "execution_count": null,
   "id": "0c9a66b3-6259-47ab-80b0-b96db2807884",
   "metadata": {},
   "outputs": [],
   "source": []
  }
 ],
 "metadata": {
  "kernelspec": {
   "display_name": "Python 3 (ipykernel)",
   "language": "python",
   "name": "python3"
  },
  "language_info": {
   "codemirror_mode": {
    "name": "ipython",
    "version": 3
   },
   "file_extension": ".py",
   "mimetype": "text/x-python",
   "name": "python",
   "nbconvert_exporter": "python",
   "pygments_lexer": "ipython3",
   "version": "3.8.2"
  }
 },
 "nbformat": 4,
 "nbformat_minor": 5
}
